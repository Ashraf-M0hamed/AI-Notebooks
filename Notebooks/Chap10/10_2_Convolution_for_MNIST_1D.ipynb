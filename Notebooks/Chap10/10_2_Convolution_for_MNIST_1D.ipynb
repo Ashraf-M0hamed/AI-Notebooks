{
  "nbformat": 4,
  "nbformat_minor": 0,
  "metadata": {
    "colab": {
      "provenance": [],
      "include_colab_link": true
    },
    "kernelspec": {
      "name": "python3",
      "display_name": "Python 3"
    },
    "language_info": {
      "name": "python"
    }
  },
  "cells": [
    {
      "cell_type": "markdown",
      "metadata": {
        "id": "view-in-github",
        "colab_type": "text"
      },
      "source": [
        "<a href=\"https://colab.research.google.com/github/Ashraf-M0hamed/AI-Notebooks/blob/main/Notebooks/Chap10/10_2_Convolution_for_MNIST_1D.ipynb\" target=\"_parent\"><img src=\"https://colab.research.google.com/assets/colab-badge.svg\" alt=\"Open In Colab\"/></a>"
      ]
    },
    {
      "cell_type": "markdown",
      "source": [
        "# **Notebook 10.2: Convolution for MNIST-1D**\n",
        "\n",
        "This notebook investigates a 1D convolutional network for MNIST-1D as in figure 10.7 and 10.8a.\n",
        "\n",
        "Work through the cells below, running each cell in turn. In various places you will see the words \"TODO\". Follow the instructions at these places and make predictions about what is going to happen or write code to complete the functions.\n",
        "\n",
        "Contact me at udlbookmail@gmail.com if you find any mistakes or have any suggestions.\n",
        "\n"
      ],
      "metadata": {
        "id": "t9vk9Elugvmi"
      }
    },
    {
      "cell_type": "code",
      "source": [
        "# Run this if you're in a Colab to install MNIST 1D repository\n",
        "!pip install git+https://github.com/greydanus/mnist1d"
      ],
      "metadata": {
        "id": "D5yLObtZCi9J",
        "outputId": "9717d712-001f-4337-8892-4634b68b3cb4",
        "colab": {
          "base_uri": "https://localhost:8080/"
        }
      },
      "execution_count": 1,
      "outputs": [
        {
          "output_type": "stream",
          "name": "stdout",
          "text": [
            "Collecting git+https://github.com/greydanus/mnist1d\n",
            "  Cloning https://github.com/greydanus/mnist1d to /tmp/pip-req-build-l72uls45\n",
            "  Running command git clone --filter=blob:none --quiet https://github.com/greydanus/mnist1d /tmp/pip-req-build-l72uls45\n",
            "  Resolved https://github.com/greydanus/mnist1d to commit 7878d96082abd200c546a07a4101fa90b30fdf7e\n",
            "  Installing build dependencies ... \u001b[?25l\u001b[?25hdone\n",
            "  Getting requirements to build wheel ... \u001b[?25l\u001b[?25hdone\n",
            "  Preparing metadata (pyproject.toml) ... \u001b[?25l\u001b[?25hdone\n",
            "Requirement already satisfied: requests in /usr/local/lib/python3.11/dist-packages (from mnist1d==0.0.2.post16) (2.32.3)\n",
            "Requirement already satisfied: numpy in /usr/local/lib/python3.11/dist-packages (from mnist1d==0.0.2.post16) (2.0.2)\n",
            "Requirement already satisfied: matplotlib in /usr/local/lib/python3.11/dist-packages (from mnist1d==0.0.2.post16) (3.10.0)\n",
            "Requirement already satisfied: scipy in /usr/local/lib/python3.11/dist-packages (from mnist1d==0.0.2.post16) (1.15.2)\n",
            "Requirement already satisfied: contourpy>=1.0.1 in /usr/local/lib/python3.11/dist-packages (from matplotlib->mnist1d==0.0.2.post16) (1.3.2)\n",
            "Requirement already satisfied: cycler>=0.10 in /usr/local/lib/python3.11/dist-packages (from matplotlib->mnist1d==0.0.2.post16) (0.12.1)\n",
            "Requirement already satisfied: fonttools>=4.22.0 in /usr/local/lib/python3.11/dist-packages (from matplotlib->mnist1d==0.0.2.post16) (4.57.0)\n",
            "Requirement already satisfied: kiwisolver>=1.3.1 in /usr/local/lib/python3.11/dist-packages (from matplotlib->mnist1d==0.0.2.post16) (1.4.8)\n",
            "Requirement already satisfied: packaging>=20.0 in /usr/local/lib/python3.11/dist-packages (from matplotlib->mnist1d==0.0.2.post16) (24.2)\n",
            "Requirement already satisfied: pillow>=8 in /usr/local/lib/python3.11/dist-packages (from matplotlib->mnist1d==0.0.2.post16) (11.2.1)\n",
            "Requirement already satisfied: pyparsing>=2.3.1 in /usr/local/lib/python3.11/dist-packages (from matplotlib->mnist1d==0.0.2.post16) (3.2.3)\n",
            "Requirement already satisfied: python-dateutil>=2.7 in /usr/local/lib/python3.11/dist-packages (from matplotlib->mnist1d==0.0.2.post16) (2.9.0.post0)\n",
            "Requirement already satisfied: charset-normalizer<4,>=2 in /usr/local/lib/python3.11/dist-packages (from requests->mnist1d==0.0.2.post16) (3.4.2)\n",
            "Requirement already satisfied: idna<4,>=2.5 in /usr/local/lib/python3.11/dist-packages (from requests->mnist1d==0.0.2.post16) (3.10)\n",
            "Requirement already satisfied: urllib3<3,>=1.21.1 in /usr/local/lib/python3.11/dist-packages (from requests->mnist1d==0.0.2.post16) (2.4.0)\n",
            "Requirement already satisfied: certifi>=2017.4.17 in /usr/local/lib/python3.11/dist-packages (from requests->mnist1d==0.0.2.post16) (2025.4.26)\n",
            "Requirement already satisfied: six>=1.5 in /usr/local/lib/python3.11/dist-packages (from python-dateutil>=2.7->matplotlib->mnist1d==0.0.2.post16) (1.17.0)\n",
            "Building wheels for collected packages: mnist1d\n",
            "  Building wheel for mnist1d (pyproject.toml) ... \u001b[?25l\u001b[?25hdone\n",
            "  Created wheel for mnist1d: filename=mnist1d-0.0.2.post16-py3-none-any.whl size=14663 sha256=3ce4fc459325b52051253f5cd9a11dd6e581c3a8f8bea4f88478de291890b2a0\n",
            "  Stored in directory: /tmp/pip-ephem-wheel-cache-saobngk2/wheels/d6/38/42/3d2112bc7d915f6195254ac85eb761d922d1b18f52817aa8e2\n",
            "Successfully built mnist1d\n",
            "Installing collected packages: mnist1d\n",
            "Successfully installed mnist1d-0.0.2.post16\n"
          ]
        }
      ]
    },
    {
      "cell_type": "code",
      "source": [
        "import numpy as np\n",
        "import os\n",
        "import torch, torch.nn as nn\n",
        "from torch.utils.data import TensorDataset, DataLoader\n",
        "from torch.optim.lr_scheduler import StepLR\n",
        "import matplotlib.pyplot as plt\n",
        "import mnist1d\n",
        "import random"
      ],
      "metadata": {
        "id": "YrXWAH7sUWvU"
      },
      "execution_count": 2,
      "outputs": []
    },
    {
      "cell_type": "code",
      "source": [
        "args = mnist1d.data.get_dataset_args()\n",
        "data = mnist1d.data.get_dataset(args, path='./mnist1d_data.pkl', download=False, regenerate=False)\n",
        "\n",
        "# The training and test input and outputs are in\n",
        "# data['x'], data['y'], data['x_test'], and data['y_test']\n",
        "print(\"Examples in training set: {}\".format(len(data['y'])))\n",
        "print(\"Examples in test set: {}\".format(len(data['y_test'])))\n",
        "print(\"Length of each example: {}\".format(data['x'].shape[-1]))"
      ],
      "metadata": {
        "id": "twI72ZCrCt5z",
        "outputId": "0fcaae74-ae1b-4783-c8f5-deda212485fb",
        "colab": {
          "base_uri": "https://localhost:8080/"
        }
      },
      "execution_count": 3,
      "outputs": [
        {
          "output_type": "stream",
          "name": "stdout",
          "text": [
            "Did or could not load data from ./mnist1d_data.pkl. Rebuilding dataset...\n",
            "Examples in training set: 4000\n",
            "Examples in test set: 1000\n",
            "Length of each example: 40\n"
          ]
        }
      ]
    },
    {
      "cell_type": "code",
      "source": [
        "# Load in the data\n",
        "train_data_x = data['x'].transpose()\n",
        "train_data_y = data['y']\n",
        "val_data_x = data['x_test'].transpose()\n",
        "val_data_y = data['y_test']\n",
        "# Print out sizes\n",
        "print(\"Train data: %d examples (columns), each of which has %d dimensions (rows)\"%((train_data_x.shape[1],train_data_x.shape[0])))\n",
        "print(\"Validation data: %d examples (columns), each of which has %d dimensions (rows)\"%((val_data_x.shape[1],val_data_x.shape[0])))"
      ],
      "metadata": {
        "id": "8bKADvLHbiV5",
        "outputId": "92d6bec2-1e9e-48db-8bf1-2a648f427b36",
        "colab": {
          "base_uri": "https://localhost:8080/"
        }
      },
      "execution_count": 4,
      "outputs": [
        {
          "output_type": "stream",
          "name": "stdout",
          "text": [
            "Train data: 4000 examples (columns), each of which has 40 dimensions (rows)\n",
            "Validation data: 1000 examples (columns), each of which has 40 dimensions (rows)\n"
          ]
        }
      ]
    },
    {
      "cell_type": "markdown",
      "source": [
        "Define the network"
      ],
      "metadata": {
        "id": "_sFvRDGrl4qe"
      }
    },
    {
      "cell_type": "code",
      "source": [
        "# There are 40 input dimensions and 10 output dimensions for this data\n",
        "# The inputs correspond to the 40 offsets in the MNIST1D template.\n",
        "D_i = 40\n",
        "# The outputs correspond to the 10 digits\n",
        "D_o = 10\n",
        "\n",
        "\n",
        "# TODO Create a model with the following layers\n",
        "# 1. Convolutional layer, (input=length 40 and 1 channel, kernel size 3, stride 2, padding=\"valid\", 15 output channels )\n",
        "# 2. ReLU\n",
        "# 3. Convolutional layer, (input=length 19 and 15 channels, kernel size 3, stride 2, padding=\"valid\", 15 output channels )\n",
        "# 4. ReLU\n",
        "# 5. Convolutional layer, (input=length 9 and 15 channels, kernel size 3, stride 2, padding=\"valid\", 15 output channels)\n",
        "# 6. ReLU\n",
        "# 7. Flatten (converts 4x15) to length 60\n",
        "# 8. Linear layer (input size = 60, output size = 10)\n",
        "# References:\n",
        "# https://pytorch.org/docs/1.13/generated/torch.nn.Conv1d.html?highlight=conv1d#torch.nn.Conv1d\n",
        "# https://pytorch.org/docs/stable/generated/torch.nn.Flatten.html\n",
        "# https://pytorch.org/docs/1.13/generated/torch.nn.Linear.html?highlight=linear#torch.nn.Linear\n",
        "\n",
        "# NOTE THAT THE CONVOLUTIONAL LAYERS NEED TO TAKE THE NUMBER OF INPUT CHANNELS AS A PARAMETER\n",
        "# AND NOT THE INPUT SIZE.\n",
        "\n",
        "# Replace the following function:\n",
        "#model = nn.Sequential(\n",
        "#nn.Flatten(),\n",
        "#nn.Linear(40, 100),\n",
        "#nn.ReLU(),\n",
        "#nn.Linear(100, 100),\n",
        "#nn.ReLU(),\n",
        "#nn.Linear(100, 10))\n",
        "model = nn.Sequential(\n",
        "    # Input: (batch_size, 1, 40)\n",
        "    nn.Conv1d(in_channels=1, out_channels=15, kernel_size=3, stride=2, padding=0),  # -> (batch_size, 15, 19)\n",
        "    nn.ReLU(),\n",
        "\n",
        "    nn.Conv1d(in_channels=15, out_channels=15, kernel_size=3, stride=2, padding=0),  # -> (batch_size, 15, 9)\n",
        "    nn.ReLU(),\n",
        "\n",
        "    nn.Conv1d(in_channels=15, out_channels=15, kernel_size=3, stride=2, padding=0),  # -> (batch_size, 15, 4)\n",
        "    nn.ReLU(),\n",
        "\n",
        "    nn.Flatten(),  # -> (batch_size, 15 * 4 = 60)\n",
        "\n",
        "    nn.Linear(60, 10)  # Final classification layer (10 digits)\n",
        ")\n",
        "\n",
        "\n"
      ],
      "metadata": {
        "id": "FslroPJJffrh"
      },
      "execution_count": 5,
      "outputs": []
    },
    {
      "cell_type": "code",
      "source": [
        "# He initialization of weights\n",
        "def weights_init(layer_in):\n",
        "  if isinstance(layer_in, nn.Linear):\n",
        "    nn.init.kaiming_uniform_(layer_in.weight)\n",
        "    layer_in.bias.data.fill_(0.0)"
      ],
      "metadata": {
        "id": "YgLaex1pfhqz"
      },
      "execution_count": 6,
      "outputs": []
    },
    {
      "cell_type": "code",
      "source": [
        "# choose cross entropy loss function (equation 5.24 in the loss notes)\n",
        "loss_function = nn.CrossEntropyLoss()\n",
        "# construct SGD optimizer and initialize learning rate and momentum\n",
        "optimizer = torch.optim.SGD(model.parameters(), lr = 0.05, momentum=0.9)\n",
        "# object that decreases learning rate by half every 20 epochs\n",
        "scheduler = StepLR(optimizer, step_size=20, gamma=0.5)\n",
        "# create 100 dummy data points and store in data loader class\n",
        "x_train = torch.tensor(train_data_x.transpose().astype('float32'))\n",
        "y_train = torch.tensor(train_data_y.astype('long')).long()\n",
        "x_val= torch.tensor(val_data_x.transpose().astype('float32'))\n",
        "y_val = torch.tensor(val_data_y.astype('long')).long()\n",
        "\n",
        "# load the data into a class that creates the batches\n",
        "data_loader = DataLoader(TensorDataset(x_train,y_train), batch_size=100, shuffle=True, worker_init_fn=np.random.seed(1))\n",
        "\n",
        "# Initialize model weights\n",
        "model.apply(weights_init)\n",
        "\n",
        "# loop over the dataset n_epoch times\n",
        "n_epoch = 100\n",
        "# store the loss and the % correct at each epoch\n",
        "losses_train = np.zeros((n_epoch))\n",
        "errors_train = np.zeros((n_epoch))\n",
        "losses_val = np.zeros((n_epoch))\n",
        "errors_val = np.zeros((n_epoch))\n",
        "\n",
        "for epoch in range(n_epoch):\n",
        "  # loop over batches\n",
        "  for i, data in enumerate(data_loader):\n",
        "    # retrieve inputs and labels for this batch\n",
        "    x_batch, y_batch = data\n",
        "    # zero the parameter gradients\n",
        "    optimizer.zero_grad()\n",
        "    # forward pass -- calculate model output\n",
        "    pred = model(x_batch[:,None,:])\n",
        "    # compute the loss\n",
        "    loss = loss_function(pred, y_batch)\n",
        "    # backward pass\n",
        "    loss.backward()\n",
        "    # SGD update\n",
        "    optimizer.step()\n",
        "\n",
        "  # Run whole dataset to get statistics -- normally wouldn't do this\n",
        "  pred_train = model(x_train[:,None,:])\n",
        "  pred_val = model(x_val[:,None,:])\n",
        "  _, predicted_train_class = torch.max(pred_train.data, 1)\n",
        "  _, predicted_val_class = torch.max(pred_val.data, 1)\n",
        "  errors_train[epoch] = 100 - 100 * (predicted_train_class == y_train).float().sum() / len(y_train)\n",
        "  errors_val[epoch]= 100 - 100 * (predicted_val_class == y_val).float().sum() / len(y_val)\n",
        "  losses_train[epoch] = loss_function(pred_train, y_train).item()\n",
        "  losses_val[epoch]= loss_function(pred_val, y_val).item()\n",
        "  print(f'Epoch {epoch:5d}, train loss {losses_train[epoch]:.6f}, train error {errors_train[epoch]:3.2f},  val loss {losses_val[epoch]:.6f}, percent error {errors_val[epoch]:3.2f}')\n",
        "\n",
        "  # tell scheduler to consider updating learning rate\n",
        "  scheduler.step()\n",
        "\n",
        "# Plot the results\n",
        "fig, ax = plt.subplots()\n",
        "ax.plot(errors_train,'r-',label='train')\n",
        "ax.plot(errors_val,'b-',label='validation')\n",
        "ax.set_ylim(0,100); ax.set_xlim(0,n_epoch)\n",
        "ax.set_xlabel('Epoch'); ax.set_ylabel('Error')\n",
        "ax.set_title('Part I: Validation Result %3.2f'%(errors_val[-1]))\n",
        "ax.legend()\n",
        "plt.show()"
      ],
      "metadata": {
        "id": "NYw8I_3mmX5c",
        "outputId": "3e23f98d-7891-449e-8a57-75d4ac914eae",
        "colab": {
          "base_uri": "https://localhost:8080/",
          "height": 1000
        }
      },
      "execution_count": 7,
      "outputs": [
        {
          "output_type": "stream",
          "name": "stdout",
          "text": [
            "Epoch     0, train loss 1.941826, train error 76.12,  val loss 1.958890, percent error 78.60\n",
            "Epoch     1, train loss 1.580320, train error 65.07,  val loss 1.611167, percent error 70.00\n",
            "Epoch     2, train loss 1.350113, train error 54.62,  val loss 1.366218, percent error 56.70\n",
            "Epoch     3, train loss 1.316012, train error 53.80,  val loss 1.337633, percent error 56.70\n",
            "Epoch     4, train loss 1.296705, train error 53.83,  val loss 1.341621, percent error 56.50\n",
            "Epoch     5, train loss 1.235470, train error 50.72,  val loss 1.278912, percent error 54.80\n",
            "Epoch     6, train loss 1.107096, train error 45.92,  val loss 1.147496, percent error 48.10\n",
            "Epoch     7, train loss 1.024190, train error 40.17,  val loss 1.053644, percent error 44.00\n",
            "Epoch     8, train loss 0.958691, train error 39.08,  val loss 1.001623, percent error 42.10\n",
            "Epoch     9, train loss 0.930186, train error 38.97,  val loss 0.980631, percent error 42.10\n",
            "Epoch    10, train loss 0.850097, train error 33.47,  val loss 0.888622, percent error 36.80\n",
            "Epoch    11, train loss 0.700360, train error 27.25,  val loss 0.750171, percent error 29.90\n",
            "Epoch    12, train loss 0.687771, train error 26.70,  val loss 0.760094, percent error 29.20\n",
            "Epoch    13, train loss 0.572343, train error 22.53,  val loss 0.665601, percent error 27.60\n",
            "Epoch    14, train loss 0.585844, train error 23.12,  val loss 0.684177, percent error 28.20\n",
            "Epoch    15, train loss 0.520097, train error 20.18,  val loss 0.613119, percent error 24.50\n",
            "Epoch    16, train loss 0.535829, train error 20.75,  val loss 0.649187, percent error 24.80\n",
            "Epoch    17, train loss 0.452771, train error 16.97,  val loss 0.562288, percent error 20.00\n",
            "Epoch    18, train loss 0.375758, train error 14.75,  val loss 0.493613, percent error 19.10\n",
            "Epoch    19, train loss 0.387488, train error 14.70,  val loss 0.516221, percent error 20.30\n",
            "Epoch    20, train loss 0.300907, train error 10.60,  val loss 0.422549, percent error 15.70\n",
            "Epoch    21, train loss 0.253271, train error 8.95,  val loss 0.392023, percent error 13.70\n",
            "Epoch    22, train loss 0.287990, train error 10.53,  val loss 0.443798, percent error 16.60\n",
            "Epoch    23, train loss 0.235058, train error 8.43,  val loss 0.382371, percent error 13.60\n",
            "Epoch    24, train loss 0.232060, train error 8.20,  val loss 0.379802, percent error 13.50\n",
            "Epoch    25, train loss 0.214771, train error 7.53,  val loss 0.365444, percent error 13.40\n",
            "Epoch    26, train loss 0.211552, train error 7.30,  val loss 0.377420, percent error 12.00\n",
            "Epoch    27, train loss 0.202644, train error 7.22,  val loss 0.361624, percent error 12.50\n",
            "Epoch    28, train loss 0.181125, train error 6.20,  val loss 0.343641, percent error 12.30\n",
            "Epoch    29, train loss 0.168559, train error 5.43,  val loss 0.332227, percent error 11.30\n",
            "Epoch    30, train loss 0.194616, train error 7.03,  val loss 0.363311, percent error 12.80\n",
            "Epoch    31, train loss 0.152822, train error 5.03,  val loss 0.331447, percent error 11.60\n",
            "Epoch    32, train loss 0.142636, train error 4.75,  val loss 0.309074, percent error 10.60\n",
            "Epoch    33, train loss 0.159862, train error 5.68,  val loss 0.349573, percent error 11.60\n",
            "Epoch    34, train loss 0.129808, train error 4.32,  val loss 0.311297, percent error 10.20\n",
            "Epoch    35, train loss 0.127452, train error 4.35,  val loss 0.306332, percent error 10.90\n",
            "Epoch    36, train loss 0.118055, train error 3.80,  val loss 0.311811, percent error 11.00\n",
            "Epoch    37, train loss 0.119025, train error 4.07,  val loss 0.308598, percent error 11.10\n",
            "Epoch    38, train loss 0.131353, train error 4.80,  val loss 0.336951, percent error 10.90\n",
            "Epoch    39, train loss 0.097073, train error 2.78,  val loss 0.303385, percent error 9.90\n",
            "Epoch    40, train loss 0.092650, train error 2.80,  val loss 0.300472, percent error 10.00\n",
            "Epoch    41, train loss 0.083964, train error 2.22,  val loss 0.299421, percent error 9.30\n",
            "Epoch    42, train loss 0.085045, train error 2.60,  val loss 0.284287, percent error 9.30\n",
            "Epoch    43, train loss 0.082347, train error 2.32,  val loss 0.282009, percent error 10.10\n",
            "Epoch    44, train loss 0.079380, train error 2.10,  val loss 0.283019, percent error 10.00\n",
            "Epoch    45, train loss 0.076210, train error 2.03,  val loss 0.295196, percent error 9.70\n",
            "Epoch    46, train loss 0.074730, train error 2.10,  val loss 0.285520, percent error 9.40\n",
            "Epoch    47, train loss 0.074212, train error 2.07,  val loss 0.299839, percent error 10.10\n",
            "Epoch    48, train loss 0.069984, train error 1.82,  val loss 0.280348, percent error 9.60\n",
            "Epoch    49, train loss 0.072389, train error 1.90,  val loss 0.297603, percent error 9.90\n",
            "Epoch    50, train loss 0.067835, train error 1.82,  val loss 0.297779, percent error 10.40\n",
            "Epoch    51, train loss 0.065124, train error 1.57,  val loss 0.291522, percent error 9.20\n",
            "Epoch    52, train loss 0.059845, train error 1.38,  val loss 0.295879, percent error 10.10\n",
            "Epoch    53, train loss 0.062618, train error 1.60,  val loss 0.285000, percent error 9.70\n",
            "Epoch    54, train loss 0.058999, train error 1.47,  val loss 0.293688, percent error 9.80\n",
            "Epoch    55, train loss 0.057853, train error 1.28,  val loss 0.287028, percent error 8.80\n",
            "Epoch    56, train loss 0.061342, train error 1.57,  val loss 0.304311, percent error 9.80\n",
            "Epoch    57, train loss 0.055540, train error 1.10,  val loss 0.309837, percent error 10.30\n",
            "Epoch    58, train loss 0.054102, train error 1.12,  val loss 0.310124, percent error 9.50\n",
            "Epoch    59, train loss 0.050946, train error 1.12,  val loss 0.305740, percent error 9.70\n",
            "Epoch    60, train loss 0.046569, train error 0.85,  val loss 0.297523, percent error 9.50\n",
            "Epoch    61, train loss 0.046409, train error 0.78,  val loss 0.299998, percent error 9.70\n",
            "Epoch    62, train loss 0.045401, train error 0.85,  val loss 0.303052, percent error 9.70\n",
            "Epoch    63, train loss 0.044781, train error 0.72,  val loss 0.305706, percent error 9.80\n",
            "Epoch    64, train loss 0.044380, train error 0.75,  val loss 0.309922, percent error 9.80\n",
            "Epoch    65, train loss 0.045846, train error 0.75,  val loss 0.308884, percent error 10.20\n",
            "Epoch    66, train loss 0.045741, train error 0.72,  val loss 0.316738, percent error 9.90\n",
            "Epoch    67, train loss 0.042503, train error 0.68,  val loss 0.307955, percent error 9.50\n",
            "Epoch    68, train loss 0.042286, train error 0.62,  val loss 0.303356, percent error 10.10\n",
            "Epoch    69, train loss 0.042869, train error 0.72,  val loss 0.311470, percent error 9.90\n",
            "Epoch    70, train loss 0.041146, train error 0.57,  val loss 0.317487, percent error 9.80\n",
            "Epoch    71, train loss 0.041481, train error 0.75,  val loss 0.311124, percent error 9.70\n",
            "Epoch    72, train loss 0.040041, train error 0.53,  val loss 0.313578, percent error 10.00\n",
            "Epoch    73, train loss 0.039710, train error 0.60,  val loss 0.313606, percent error 10.00\n",
            "Epoch    74, train loss 0.040150, train error 0.57,  val loss 0.317828, percent error 10.10\n",
            "Epoch    75, train loss 0.040388, train error 0.55,  val loss 0.318121, percent error 10.00\n",
            "Epoch    76, train loss 0.038386, train error 0.57,  val loss 0.314543, percent error 9.90\n",
            "Epoch    77, train loss 0.037641, train error 0.57,  val loss 0.311502, percent error 9.70\n",
            "Epoch    78, train loss 0.037015, train error 0.55,  val loss 0.315134, percent error 9.80\n",
            "Epoch    79, train loss 0.037961, train error 0.55,  val loss 0.320697, percent error 10.10\n",
            "Epoch    80, train loss 0.035917, train error 0.47,  val loss 0.318827, percent error 9.70\n",
            "Epoch    81, train loss 0.036076, train error 0.55,  val loss 0.319350, percent error 9.60\n",
            "Epoch    82, train loss 0.035776, train error 0.53,  val loss 0.317946, percent error 10.00\n",
            "Epoch    83, train loss 0.035228, train error 0.45,  val loss 0.321751, percent error 9.80\n",
            "Epoch    84, train loss 0.035424, train error 0.55,  val loss 0.319628, percent error 9.50\n",
            "Epoch    85, train loss 0.034691, train error 0.47,  val loss 0.319483, percent error 10.20\n",
            "Epoch    86, train loss 0.035044, train error 0.50,  val loss 0.320687, percent error 9.80\n",
            "Epoch    87, train loss 0.034200, train error 0.38,  val loss 0.323287, percent error 10.00\n",
            "Epoch    88, train loss 0.034266, train error 0.45,  val loss 0.322981, percent error 9.80\n",
            "Epoch    89, train loss 0.035071, train error 0.47,  val loss 0.322916, percent error 10.00\n",
            "Epoch    90, train loss 0.033693, train error 0.40,  val loss 0.323684, percent error 9.90\n",
            "Epoch    91, train loss 0.033994, train error 0.47,  val loss 0.325863, percent error 9.80\n",
            "Epoch    92, train loss 0.033520, train error 0.43,  val loss 0.327263, percent error 10.00\n",
            "Epoch    93, train loss 0.033146, train error 0.43,  val loss 0.325470, percent error 10.10\n",
            "Epoch    94, train loss 0.033026, train error 0.40,  val loss 0.326042, percent error 9.80\n",
            "Epoch    95, train loss 0.032859, train error 0.47,  val loss 0.325945, percent error 9.90\n",
            "Epoch    96, train loss 0.032502, train error 0.38,  val loss 0.327331, percent error 10.00\n",
            "Epoch    97, train loss 0.032371, train error 0.43,  val loss 0.326623, percent error 9.70\n",
            "Epoch    98, train loss 0.032525, train error 0.45,  val loss 0.328601, percent error 9.60\n",
            "Epoch    99, train loss 0.031962, train error 0.38,  val loss 0.328472, percent error 9.80\n"
          ]
        },
        {
          "output_type": "display_data",
          "data": {
            "text/plain": [
              "<Figure size 640x480 with 1 Axes>"
            ],
            "image/png": "[encoded data removed]"
          },
          "metadata": {}
        }
      ]
    }
  ]
}